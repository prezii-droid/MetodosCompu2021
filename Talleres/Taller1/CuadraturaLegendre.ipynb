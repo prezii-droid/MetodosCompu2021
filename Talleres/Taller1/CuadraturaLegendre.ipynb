{
 "cells": [
  {
   "cell_type": "code",
   "execution_count": 1,
   "metadata": {},
   "outputs": [],
   "source": [
    "import numpy as np\n",
    "import matplotlib.pyplot as plt\n",
    "from matplotlib import rc\n",
    "import sympy as sym\n",
    "import math"
   ]
  },
  {
   "cell_type": "markdown",
   "metadata": {},
   "source": [
    "# Método de Newton-Raphson "
   ]
  },
  {
   "cell_type": "markdown",
   "metadata": {},
   "source": [
    "$$ f(x) = 3x^{5}+5x^{4}-x^{3} $$"
   ]
  },
  {
   "cell_type": "code",
   "execution_count": 2,
   "metadata": {},
   "outputs": [],
   "source": [
    "def Function(x):\n",
    "    #return 3*x**5 + 5*x**4 - x**3\n",
    "    #return (2*x**4 - 2*x**3 + x**2 + 3*x - 4)\n",
    "    #return (x**3 - 4*x**2 + 2)\n",
    "    \n",
    "    #return (3*x**2-1)/2.\n",
    "    #return (5*x**3 - 3.*x)/2. \n",
    "    #return (35.*x**4 - 30.*x**2 + 3.)/8. \n",
    "    return (63*x**5 - 70*x**3 + 15*x)/8"
   ]
  },
  {
   "cell_type": "code",
   "execution_count": 3,
   "metadata": {},
   "outputs": [],
   "source": [
    "def Derivative(f,x,h):\n",
    "    d = 0.\n",
    "    \n",
    "    if(h != 0):\n",
    "        d = (f(x+h)-f(x-h))/(2.*h)\n",
    "        \n",
    "    return d"
   ]
  },
  {
   "cell_type": "code",
   "execution_count": 4,
   "metadata": {},
   "outputs": [],
   "source": [
    "xi, xf, Npoints = -1.,1.,1000\n",
    "h = (xf-xi)/float(Npoints)"
   ]
  },
  {
   "cell_type": "code",
   "execution_count": 5,
   "metadata": {},
   "outputs": [
    {
     "data": {
      "text/plain": [
       "(-1, 1)"
      ]
     },
     "execution_count": 5,
     "metadata": {},
     "output_type": "execute_result"
    },
    {
     "data": {
      "image/png": "[encoded data removed]",
      "text/plain": [
       "<Figure size 432x288 with 1 Axes>"
      ]
     },
     "metadata": {
      "needs_background": "light"
     },
     "output_type": "display_data"
    }
   ],
   "source": [
    "X = np.linspace(xi,xf,Npoints)\n",
    "Y = Function(X)\n",
    "Y1 = np.zeros(len(X))\n",
    "\n",
    "plt.plot(X,Y)\n",
    "plt.plot(X,Y1,'r--')\n",
    "#plt.xlim(-1,4)\n",
    "plt.ylim(-1,1)\n",
    "#plt.grid()"
   ]
  },
  {
   "cell_type": "code",
   "execution_count": 6,
   "metadata": {},
   "outputs": [],
   "source": [
    "def NewtonMethod(f,df,xn,error,it,precision=0.001,iterations=1000):\n",
    "    \n",
    "    h_ = 1.0e-4\n",
    "    \n",
    "    while error > precision and it < iterations:\n",
    "        \n",
    "        try:\n",
    "            \n",
    "            xn1 = xn - f(xn)/df(f,xn,h_)+1.0e-10\n",
    "            error = np.abs((xn1-xn)/xn1)        \n",
    "            \n",
    "        except ZeroDivisionError:\n",
    "            print(\"Division by Zero\")\n",
    "            \n",
    "        xn = xn1\n",
    "        it += 1\n",
    "    \n",
    "    #print(it)\n",
    "    if it == iterations:\n",
    "        return False\n",
    "    else:\n",
    "        return xn1"
   ]
  },
  {
   "cell_type": "code",
   "execution_count": 7,
   "metadata": {},
   "outputs": [
    {
     "name": "stdout",
     "output_type": "stream",
     "text": [
      "0.906179858254\n"
     ]
    }
   ],
   "source": [
    "root = NewtonMethod(Function,Derivative,1,100,0)\n",
    "print(root)"
   ]
  },
  {
   "cell_type": "code",
   "execution_count": 8,
   "metadata": {},
   "outputs": [],
   "source": [
    "def GetRoots(f,df, X, precision_=0.001, tolerancia=5):\n",
    "    \n",
    "    Roots = []\n",
    "    \n",
    "    for i in X:\n",
    "        \n",
    "        root = NewtonMethod(f,df,i,100,0,precision=precision_)\n",
    "        \n",
    "        if root != False:\n",
    "            if round(root,tolerancia) not in Roots:\n",
    "                Roots.append(round(root,tolerancia))\n",
    "            \n",
    "      \n",
    "    return Roots"
   ]
  },
  {
   "cell_type": "markdown",
   "metadata": {},
   "source": [
    "# Crear Polinomios y derivadas"
   ]
  },
  {
   "cell_type": "code",
   "execution_count": 9,
   "metadata": {},
   "outputs": [],
   "source": [
    "def CreateLegendPoly(n):\n",
    "    x1 = sym.Symbol('x', real=True)\n",
    "    y = sym.Symbol('y', real=True)\n",
    "    \n",
    "    y = (x1**2-1)**n\n",
    "    poly = sym.diff(y,x1,n)/( 2**n * math.factorial(n) )\n",
    "    \n",
    "    return poly"
   ]
  },
  {
   "cell_type": "code",
   "execution_count": 10,
   "metadata": {},
   "outputs": [],
   "source": [
    "def GetWeight(f,df,xk):\n",
    "    return 2./( (1-xk**2)*(df(xk))**2 )"
   ]
  },
  {
   "cell_type": "code",
   "execution_count": 11,
   "metadata": {},
   "outputs": [],
   "source": [
    "def Getleggauss(n):\n",
    "    \n",
    "    if n == 0 or n == 1:\n",
    "        return 0,0\n",
    "    \n",
    "    Legendre = []\n",
    "    DLegendre = []\n",
    "    Weights = []\n",
    "    \n",
    "    x = sym.Symbol('x', real=True)  \n",
    "    \n",
    "    for i in range(0,n+1):\n",
    "        \n",
    "        poly = CreateLegendPoly(i)\n",
    "        Legendre.append(poly)\n",
    "        DLegendre.append( sym.diff(poly,x,1) )\n",
    "    \n",
    "     \n",
    "    xi = np.linspace(-1,1,200)\n",
    "    \n",
    "    pn = sym.lambdify([x], Legendre[n],'numpy')\n",
    "    dpn = sym.lambdify([x], DLegendre[n],'numpy')\n",
    "\n",
    "    Roots = GetRoots(pn,Derivative, xi, 0.00001,tolerancia=8)\n",
    "    Roots.sort()\n",
    "    \n",
    "    \n",
    "    for j in Roots:\n",
    "        Weights.append(round(GetWeight(pn,dpn,j),8))\n",
    "        \n",
    "    Roots = np.array(Roots)\n",
    "    Weights = np.array(Weights)\n",
    "        \n",
    "    return Roots, Weights"
   ]
  },
  {
   "cell_type": "code",
   "execution_count": 12,
   "metadata": {},
   "outputs": [
    {
     "name": "stdout",
     "output_type": "stream",
     "text": [
      "(-0.97390653, 0.06667134)\n",
      "(-0.86506337, 0.14945135)\n",
      "(-0.67940957, 0.21908636)\n",
      "(-0.43339539, 0.26926672)\n",
      "(-0.14887434, 0.29552422)\n",
      "(0.14887434, 0.29552422)\n",
      "(0.43339539, 0.26926672)\n",
      "(0.67940957, 0.21908636)\n",
      "(0.86506337, 0.14945135)\n",
      "(0.97390653, 0.06667134)\n"
     ]
    }
   ],
   "source": [
    "deg = 10\n",
    "Roots, Weights = Getleggauss(deg)\n",
    "\n",
    "\n",
    "\n",
    "for i in range(deg):\n",
    "    print(Roots[i],Weights[i])\n"
   ]
  },
  {
   "cell_type": "markdown",
   "metadata": {},
   "source": [
    "# Calculando una integral"
   ]
  },
  {
   "cell_type": "code",
   "execution_count": 13,
   "metadata": {},
   "outputs": [],
   "source": [
    "a = 0\n",
    "b = 0.25*np.pi\n",
    "\n",
    "f = lambda x : np.sin(x)"
   ]
  },
  {
   "cell_type": "code",
   "execution_count": 14,
   "metadata": {},
   "outputs": [],
   "source": [
    "t = 0.5*( (b-a)*Roots + a + b  )\n",
    "Integral = 0.5*(b-a)*sum( Weights*f(t) )"
   ]
  },
  {
   "cell_type": "code",
   "execution_count": 15,
   "metadata": {},
   "outputs": [
    {
     "name": "stdout",
     "output_type": "stream",
     "text": [
      "(0.292893215897755, 0.2928932188134524)\n"
     ]
    }
   ],
   "source": [
    "print(Integral, 1-np.cos(np.pi*0.25))"
   ]
  },
  {
   "cell_type": "code",
   "execution_count": null,
   "metadata": {},
   "outputs": [],
   "source": []
  },
  {
   "cell_type": "code",
   "execution_count": null,
   "metadata": {},
   "outputs": [],
   "source": []
  }
 ],
 "metadata": {
  "kernelspec": {
   "display_name": "Python 3",
   "language": "python",
   "name": "python3"
  },
  "language_info": {
   "codemirror_mode": {
    "name": "ipython",
    "version": 2
   },
   "file_extension": ".py",
   "mimetype": "text/x-python",
   "name": "python",
   "nbconvert_exporter": "python",
   "pygments_lexer": "ipython2",
   "version": "2.7.16"
  }
 },
 "nbformat": 4,
 "nbformat_minor": 2
}
